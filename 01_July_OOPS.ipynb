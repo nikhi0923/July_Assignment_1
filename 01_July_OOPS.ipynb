{
 "cells": [
  {
   "cell_type": "markdown",
   "id": "d1c09604",
   "metadata": {},
   "source": [
    "1.The primary goal of Object-Oriented Programming (OOP) is to organize and structure code in a way that mirrors real-world objects, concepts, and relationships. OOP is a programming paradigm that emphasizes the use of \"objects,\" which are instances of classes, to model and represent entities in the problem domain.\n",
    "\n",
    " The key goals of OOP include:\n",
    " 1.Modularity\n",
    " 2.Abstraction\n",
    " 3.Encapsulation\n",
    " 4.Inheritance\n",
    " 5.Polymorphism\n",
    " 6.Flexibility and maintainability\n",
    " 7.Code reusability\n",
    " 8.Collaboration\n",
    " "
   ]
  },
  {
   "cell_type": "markdown",
   "id": "52d7943a",
   "metadata": {},
   "source": [
    "2.An object is an instance of a class, and a class defines the blueprint or template for creating objects.\n",
    "a class defines the attributes (data) and methods (functions) that an object of that class will have.\n",
    "an object is a fundamental concept and a central building block of the Object-Oriented Programming (OOP) paradigm\n",
    "\n"
   ]
  },
  {
   "cell_type": "code",
   "execution_count": 1,
   "id": "cfbf695a",
   "metadata": {},
   "outputs": [
    {
     "name": "stdout",
     "output_type": "stream",
     "text": [
      "My dog's name is Buddy.\n",
      "My dog is 3 years old.\n",
      "Buddy says Woof!\n"
     ]
    }
   ],
   "source": [
    "class Dog:\n",
    "    def __init__(self, name, age):\n",
    "        self.name = name\n",
    "        self.age = age\n",
    "\n",
    "    def bark(self):\n",
    "        print(f\"{self.name} says Woof!\")\n",
    "\n",
    "# Creating an object of the Dog class\n",
    "my_dog = Dog(\"Buddy\", 3)\n",
    "\n",
    "# Accessing attributes and calling methods of the object\n",
    "print(f\"My dog's name is {my_dog.name}.\")\n",
    "print(f\"My dog is {my_dog.age} years old.\")\n",
    "my_dog.bark()\n"
   ]
  },
  {
   "cell_type": "markdown",
   "id": "16d169d8",
   "metadata": {},
   "source": [
    "3.a class is a blueprint or template for creating objects. It defines the structure and behavior that objects of the class will have. A class encapsulates data (attributes) and methods (functions) that operate on that data. It serves as a fundamental building block of the Object-Oriented Programming (OOP) paradigm."
   ]
  },
  {
   "cell_type": "code",
   "execution_count": 2,
   "id": "e3d0d359",
   "metadata": {},
   "outputs": [
    {
     "name": "stdout",
     "output_type": "stream",
     "text": [
      "Width: 5\n",
      "Height: 3\n",
      "Area: 15\n"
     ]
    }
   ],
   "source": [
    "class Rectangle:\n",
    "    def __init__(self, width, height):\n",
    "        self.width = width\n",
    "        self.height = height\n",
    "\n",
    "    def calculate_area(self):\n",
    "        return self.width * self.height\n",
    "\n",
    "# Creating an object of the Rectangle class\n",
    "my_rectangle = Rectangle(5, 3)\n",
    "\n",
    "# Accessing attributes and calling methods of the object\n",
    "print(f\"Width: {my_rectangle.width}\")\n",
    "print(f\"Height: {my_rectangle.height}\")\n",
    "print(f\"Area: {my_rectangle.calculate_area()}\")\n"
   ]
  },
  {
   "cell_type": "markdown",
   "id": "d34d14d5",
   "metadata": {},
   "source": [
    "4.both attributes and methods are used to define the behavior and structure of objects created from that class. \n",
    "\n",
    "Attributes, also known as instance variables or fields, are variables that store data associated with an object. They represent the characteristics or properties of the object. \n"
   ]
  },
  {
   "cell_type": "code",
   "execution_count": 4,
   "id": "e563f8f3",
   "metadata": {},
   "outputs": [
    {
     "name": "stdout",
     "output_type": "stream",
     "text": [
      "Alice\n",
      "30\n"
     ]
    }
   ],
   "source": [
    "class Person:\n",
    "    def __init__(self, name, age):\n",
    "        self.name = name\n",
    "        self.age = age\n",
    "\n",
    "# Creating an object of the Person class\n",
    "person1 = Person(\"Alice\", 30)\n",
    "\n",
    "# Accessing attributes\n",
    "print(person1.name)  \n",
    "print(person1.age)   \n"
   ]
  },
  {
   "cell_type": "markdown",
   "id": "c2041c70",
   "metadata": {},
   "source": [
    "Methods are functions defined within a class that define the behavior of objects created from that class. They operate on the object's attributes and can perform various actions"
   ]
  },
  {
   "cell_type": "code",
   "execution_count": 3,
   "id": "baa8936e",
   "metadata": {},
   "outputs": [
    {
     "name": "stdout",
     "output_type": "stream",
     "text": [
      "78.53975\n"
     ]
    }
   ],
   "source": [
    "class Circle:\n",
    "    def __init__(self, radius):\n",
    "        self.radius = radius\n",
    "\n",
    "    def calculate_area(self):\n",
    "        return 3.14159 * self.radius ** 2\n",
    "\n",
    "# Creating an object of the Circle class\n",
    "circle1 = Circle(5)\n",
    "\n",
    "# Calling the calculate_area method\n",
    "area = circle1.calculate_area()\n",
    "print(area) \n"
   ]
  },
  {
   "cell_type": "markdown",
   "id": "1d917eb7",
   "metadata": {},
   "source": [
    "5.Class Variables:\n",
    "Class variables are variables that are shared among all instances of a class. They are defined within the class itself but outside any instance methods.\n",
    "\n",
    "they are accessed using the class name or through instances of the class, but any modification to a class variable will affect all instances."
   ]
  },
  {
   "cell_type": "code",
   "execution_count": 5,
   "id": "e86c6442",
   "metadata": {},
   "outputs": [
    {
     "name": "stdout",
     "output_type": "stream",
     "text": [
      "3.14159\n",
      "3.14159\n",
      "3.14159\n"
     ]
    }
   ],
   "source": [
    "class Circle:\n",
    "    pi = 3.14159  # This is a class variable\n",
    "    \n",
    "    def __init__(self, radius):\n",
    "        self.radius = radius\n",
    "\n",
    "# Accessing the class variable using the class name\n",
    "print(Circle.pi)  \n",
    "\n",
    "# Creating objects of the Circle class\n",
    "circle1 = Circle(5)\n",
    "circle2 = Circle(3)\n",
    "\n",
    "# Accessing the class variable using instances\n",
    "print(circle1.pi) \n",
    "print(circle2.pi)  \n"
   ]
  },
  {
   "cell_type": "markdown",
   "id": "54fae4fa",
   "metadata": {},
   "source": [
    "Instance variables are variables that are unique to each instance of a class. They are defined within the class's methods and are prefixed with the self keyword.\n",
    "Instance variables are used to store data that varies from instance to instance.\n",
    "They are accessed and modified through instances of the class and are not shared among different instances."
   ]
  },
  {
   "cell_type": "code",
   "execution_count": 6,
   "id": "e6556ea2",
   "metadata": {},
   "outputs": [
    {
     "name": "stdout",
     "output_type": "stream",
     "text": [
      "Alice\n",
      "25\n"
     ]
    }
   ],
   "source": [
    "class Person:\n",
    "    def __init__(self, name, age):\n",
    "        self.name = name  # This is an instance variable\n",
    "        self.age = age    # This is another instance variable\n",
    "\n",
    "# Creating objects of the Person class\n",
    "person1 = Person(\"Alice\", 30)\n",
    "person2 = Person(\"Bob\", 25)\n",
    "\n",
    "# Accessing instance variables\n",
    "print(person1.name)  \n",
    "print(person2.age)   \n"
   ]
  },
  {
   "cell_type": "markdown",
   "id": "da1930cb",
   "metadata": {},
   "source": [
    "6.the self parameter in class methods refers to the instance of the object on which the method is being called.\n",
    " The purpose of the self parameter is to allow methods to access and manipulate the instance variables (attributes) of the object to which they belong."
   ]
  },
  {
   "cell_type": "code",
   "execution_count": 7,
   "id": "d9559706",
   "metadata": {},
   "outputs": [
    {
     "name": "stdout",
     "output_type": "stream",
     "text": [
      "Hello, my name is Alice and I am 30 years old.\n"
     ]
    }
   ],
   "source": [
    "class Person:\n",
    "    def __init__(self, name, age):\n",
    "        self.name = name\n",
    "        self.age = age\n",
    "\n",
    "    def greet(self):\n",
    "        print(f\"Hello, my name is {self.name} and I am {self.age} years old.\")\n",
    "\n",
    "# Creating an object of the Person class\n",
    "person1 = Person(\"Alice\", 30)\n",
    "\n",
    "# Calling the greet method\n",
    "person1.greet()  "
   ]
  },
  {
   "cell_type": "code",
   "execution_count": 10,
   "id": "c3180de2",
   "metadata": {},
   "outputs": [
    {
     "name": "stdout",
     "output_type": "stream",
     "text": [
      "Book Information:\n",
      "Title: One Indian Girl\n",
      "Author(s): Chetan Bhagat\n",
      "ISBN: 978-3-16-148410-0\n",
      "Publication Year: 2013\n",
      "Available Copies: 3\n",
      "Book 'One Indian Girl' has been checked out.\n",
      "Book 'One Indian Girl' has been returned.\n",
      "Book Information:\n",
      "Title: One Indian Girl\n",
      "Author(s): Chetan Bhagat\n",
      "ISBN: 978-3-16-148410-0\n",
      "Publication Year: 2013\n",
      "Available Copies: 3\n"
     ]
    }
   ],
   "source": [
    "#7\n",
    "class Book:\n",
    "    def __init__(self, title, author, isbn, publication_year, available_copies):\n",
    "        self.title = title\n",
    "        self.author = author\n",
    "        self.isbn = isbn\n",
    "        self.publication_year = publication_year\n",
    "        self.available_copies = available_copies\n",
    "    \n",
    "    def check_out(self):\n",
    "        if self.available_copies > 0:\n",
    "            self.available_copies -= 1\n",
    "            print(f\"Book '{self.title}' has been checked out.\")\n",
    "        else:\n",
    "            print(\"No copies of this book are currently available.\")\n",
    "    \n",
    "    def return_book(self):\n",
    "        self.available_copies += 1\n",
    "        print(f\"Book '{self.title}' has been returned.\")\n",
    "    \n",
    "    def display_book_info(self):\n",
    "        print(\"Book Information:\")\n",
    "        print(f\"Title: {self.title}\")\n",
    "        print(f\"Author(s): {self.author}\")\n",
    "        print(f\"ISBN: {self.isbn}\")\n",
    "        print(f\"Publication Year: {self.publication_year}\")\n",
    "        print(f\"Available Copies: {self.available_copies}\")\n",
    "\n",
    "# Creating an instance of the Book class\n",
    "book1 = Book(\"One Indian Girl\", \"Chetan Bhagat\", \"978-3-16-148410-0\", 2013, 3)\n",
    "\n",
    "# Using the methods of the Book class\n",
    "book1.display_book_info()\n",
    "book1.check_out()\n",
    "book1.return_book()\n",
    "book1.display_book_info()\n"
   ]
  },
  {
   "cell_type": "code",
   "execution_count": 13,
   "id": "8c7adde1",
   "metadata": {},
   "outputs": [
    {
     "name": "stdout",
     "output_type": "stream",
     "text": [
      "Ticket Information:\n",
      "Ticket ID: T123\n",
      "Event Name: Concert\n",
      "Event Date: 2023-09-15\n",
      "Venue: Music Hall\n",
      "Seat Number: A23\n",
      "Price: Rs.500.00\n",
      "Reservation Status: Not Reserved\n",
      "Ticket T123 has been reserved.\n",
      "Reservation for ticket T123 has been canceled.\n",
      "Ticket Information:\n",
      "Ticket ID: T123\n",
      "Event Name: Concert\n",
      "Event Date: 2023-09-15\n",
      "Venue: Music Hall\n",
      "Seat Number: A23\n",
      "Price: Rs.500.00\n",
      "Reservation Status: Not Reserved\n"
     ]
    }
   ],
   "source": [
    "#8\n",
    "class Ticket:\n",
    "    def __init__(self, ticket_id, event_name, event_date, venue, seat_number, price):\n",
    "        self.ticket_id = ticket_id\n",
    "        self.event_name = event_name\n",
    "        self.event_date = event_date\n",
    "        self.venue = venue\n",
    "        self.seat_number = seat_number\n",
    "        self.price = price\n",
    "        self.is_reserved = False  # Initialize as not reserved\n",
    "    \n",
    "    def reserve_ticket(self):\n",
    "        if not self.is_reserved:\n",
    "            self.is_reserved = True\n",
    "            print(f\"Ticket {self.ticket_id} has been reserved.\")\n",
    "        else:\n",
    "            print(f\"Ticket {self.ticket_id} is already reserved.\")\n",
    "    \n",
    "    def cancel_reservation(self):\n",
    "        if self.is_reserved:\n",
    "            self.is_reserved = False\n",
    "            print(f\"Reservation for ticket {self.ticket_id} has been canceled.\")\n",
    "        else:\n",
    "            print(f\"Ticket {self.ticket_id} was not reserved.\")\n",
    "    \n",
    "    def display_ticket_info(self):\n",
    "        print(\"Ticket Information:\")\n",
    "        print(f\"Ticket ID: {self.ticket_id}\")\n",
    "        print(f\"Event Name: {self.event_name}\")\n",
    "        print(f\"Event Date: {self.event_date}\")\n",
    "        print(f\"Venue: {self.venue}\")\n",
    "        print(f\"Seat Number: {self.seat_number}\")\n",
    "        print(f\"Price: Rs.{self.price:.2f}\")\n",
    "        print(f\"Reservation Status: {'Reserved' if self.is_reserved else 'Not Reserved'}\")\n",
    "\n",
    "# Creating an instance of the Ticket class\n",
    "ticket1 = Ticket(\"T123\", \"Concert\", \"2023-09-15\", \"Music Hall\", \"A23\", 500.00)\n",
    "\n",
    "# Using the methods of the Ticket class\n",
    "ticket1.display_ticket_info()\n",
    "ticket1.reserve_ticket()\n",
    "ticket1.cancel_reservation()\n",
    "ticket1.display_ticket_info()\n"
   ]
  },
  {
   "cell_type": "code",
   "execution_count": 14,
   "id": "e5832200",
   "metadata": {},
   "outputs": [
    {
     "name": "stdout",
     "output_type": "stream",
     "text": [
      "Laptop has been added to the cart.\n",
      "Phone has been added to the cart.\n",
      "Items in the cart:\n",
      "Laptop\n",
      "Phone\n",
      "Phone has been removed from the cart.\n",
      "Items in the cart:\n",
      "Laptop\n",
      "The cart has been cleared.\n",
      "The cart is empty.\n"
     ]
    }
   ],
   "source": [
    "#9\n",
    "class ShoppingCart:\n",
    "    def __init__(self):\n",
    "        self.items = []\n",
    "    \n",
    "    def add_item(self, item):\n",
    "        self.items.append(item)\n",
    "        print(f\"{item} has been added to the cart.\")\n",
    "    \n",
    "    def remove_item(self, item):\n",
    "        if item in self.items:\n",
    "            self.items.remove(item)\n",
    "            print(f\"{item} has been removed from the cart.\")\n",
    "        else:\n",
    "            print(f\"{item} is not in the cart.\")\n",
    "    \n",
    "    def view_cart(self):\n",
    "        if self.items:\n",
    "            print(\"Items in the cart:\")\n",
    "            for item in self.items:\n",
    "                print(item)\n",
    "        else:\n",
    "            print(\"The cart is empty.\")\n",
    "    \n",
    "    def clear_cart(self):\n",
    "        self.items = []\n",
    "        print(\"The cart has been cleared.\")\n",
    "\n",
    "# Creating an instance of the ShoppingCart class\n",
    "cart = ShoppingCart()\n",
    "\n",
    "# Using the methods of the ShoppingCart class\n",
    "cart.add_item(\"Laptop\")\n",
    "cart.add_item(\"Phone\")\n",
    "cart.view_cart()\n",
    "cart.remove_item(\"Phone\")\n",
    "cart.view_cart()\n",
    "cart.clear_cart()\n",
    "cart.view_cart()\n"
   ]
  },
  {
   "cell_type": "code",
   "execution_count": 15,
   "id": "5b69efa5",
   "metadata": {},
   "outputs": [
    {
     "name": "stdout",
     "output_type": "stream",
     "text": [
      "Attendance for Alice on 2023-08-23 has been updated: Present\n",
      "Attendance for Alice on 2023-08-24 has been updated: Absent\n",
      "Attendance Record: {'2023-08-23': 'present', '2023-08-24': 'absent'}\n",
      "Average Attendance: 50.00%\n"
     ]
    }
   ],
   "source": [
    "#10\n",
    "class Student:\n",
    "    def __init__(self, name, age, grade, student_id):\n",
    "        self.name = name\n",
    "        self.age = age\n",
    "        self.grade = grade\n",
    "        self.student_id = student_id\n",
    "        self.attendance = {}  # Dictionary to store attendance (date: status)\n",
    "    \n",
    "    def update_attendance(self, date, status):\n",
    "        if status.lower() in ['present', 'absent']:\n",
    "            self.attendance[date] = status.lower()\n",
    "            print(f\"Attendance for {self.name} on {date} has been updated: {status.capitalize()}\")\n",
    "        else:\n",
    "            print(\"Invalid status. Please use 'present' or 'absent'.\")\n",
    "    \n",
    "    def get_attendance(self):\n",
    "        return self.attendance\n",
    "    \n",
    "    def get_average_attendance(self):\n",
    "        total_days = len(self.attendance)\n",
    "        if total_days == 0:\n",
    "            return 0.0\n",
    "        \n",
    "        present_days = sum(status == 'present' for status in self.attendance.values())\n",
    "        average_attendance = (present_days / total_days) * 100\n",
    "        return average_attendance\n",
    "\n",
    "# Creating an instance of the Student class\n",
    "student1 = Student(\"Alice\", 16, \"11th\", \"S12345\")\n",
    "\n",
    "# Using the methods of the Student class\n",
    "student1.update_attendance(\"2023-08-23\", \"present\")\n",
    "student1.update_attendance(\"2023-08-24\", \"absent\")\n",
    "attendance_record = student1.get_attendance()\n",
    "print(\"Attendance Record:\", attendance_record)\n",
    "average_attendance = student1.get_average_attendance()\n",
    "print(f\"Average Attendance: {average_attendance:.2f}%\")\n"
   ]
  },
  {
   "cell_type": "code",
   "execution_count": null,
   "id": "7979654b",
   "metadata": {},
   "outputs": [],
   "source": []
  }
 ],
 "metadata": {
  "kernelspec": {
   "display_name": "Python 3 (ipykernel)",
   "language": "python",
   "name": "python3"
  },
  "language_info": {
   "codemirror_mode": {
    "name": "ipython",
    "version": 3
   },
   "file_extension": ".py",
   "mimetype": "text/x-python",
   "name": "python",
   "nbconvert_exporter": "python",
   "pygments_lexer": "ipython3",
   "version": "3.10.9"
  }
 },
 "nbformat": 4,
 "nbformat_minor": 5
}
